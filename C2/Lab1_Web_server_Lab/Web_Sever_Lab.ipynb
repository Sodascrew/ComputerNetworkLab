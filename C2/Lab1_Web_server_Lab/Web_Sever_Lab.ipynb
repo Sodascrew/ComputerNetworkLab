{
 "cells": [
  {
   "cell_type": "code",
   "execution_count": null,
   "id": "fd05278a",
   "metadata": {},
   "outputs": [],
   "source": []
  },
  {
   "cell_type": "code",
   "execution_count": 1,
   "id": "cf835681",
   "metadata": {},
   "outputs": [],
   "source": [
    "#import socket module\n",
    "from socket import *\n",
    "import sys #in order to terminate the program"
   ]
  },
  {
   "cell_type": "code",
   "execution_count": null,
   "id": "7756465c",
   "metadata": {
    "scrolled": false
   },
   "outputs": [
    {
     "name": "stdout",
     "output_type": "stream",
     "text": [
      "The server is ready to receive\n",
      "Ready to serve...\n"
     ]
    }
   ],
   "source": [
    "serverSocket = socket(AF_INET, SOCK_STREAM) \n",
    "#AF_INET表明底层网络使用IPv4 SOCK_STREAM表明套接字类型，属于TCP\n",
    "#Prepare a server socket\n",
    "#Fill in start\n",
    "serverPort = 6789\n",
    "serverSocket.bind(('', serverPort)) #把套接字和端口绑定\n",
    "serverSocket.listen(1) #server聆听client的TCP连接请求，且最大数为1\n",
    "print(\"The server is ready to receive\")\n",
    "#Fill in end\n",
    "\n",
    "while True:\n",
    "    #Establish the connection\n",
    "    print('Ready to serve...')\n",
    "    connectionSocket, addr = serverSocket.accept() #Fill \n",
    "    #使用accept()方法，创建了一个名为connectionSocket的新套接字，完成了握手\n",
    "    try:\n",
    "        message = connectionSocket.recv(1024).decode() #Fill\n",
    "        filename = message.split()[1]\n",
    "        print(filename) #test\n",
    "        f = open(filename[1:])\n",
    "        outputdata = f.read() #Fill\n",
    "        print(outputdata)  #test\n",
    "        #Send one HTTP header line into socket\n",
    "        #Fill in start\n",
    "        connectionSocket.send(\"HTTP/1.1 200 OK\\n\\n\".encode()) #文件存在时回复http响应\n",
    "        #Fill in end\n",
    "        #Send the content of the requested file to the client\n",
    "        for i in range(0, len(outputdata)):\n",
    "            connectionSocket.send(outputdata[i].encode())\n",
    "        connectionSocket.send(\"\\r\\n\".encode())\n",
    "        \n",
    "        connectionSocket.close()\n",
    "\n",
    "    except IOError:\n",
    "        #Send response message for file not found\n",
    "        #Fill in start\n",
    "        connectionSocket.send(\"HTTP/1.1 404 NOT FOUND\\n\\n\".encode())\n",
    "        #Fill in end\n",
    "        #Close client socket\n",
    "        #Fill in start \n",
    "        connectionSocket.close()\n",
    "        #Fill in end\n",
    "    \n",
    "serverSocket.close()\n",
    "sys.exit() #Terminate the program after sending the corresponding data"
   ]
  },
  {
   "cell_type": "code",
   "execution_count": null,
   "id": "cc97e1fc",
   "metadata": {},
   "outputs": [],
   "source": []
  },
  {
   "cell_type": "code",
   "execution_count": null,
   "id": "b6b45bf4",
   "metadata": {},
   "outputs": [],
   "source": []
  },
  {
   "cell_type": "code",
   "execution_count": null,
   "id": "80217467",
   "metadata": {},
   "outputs": [],
   "source": []
  },
  {
   "cell_type": "code",
   "execution_count": null,
   "id": "6a9c5de9",
   "metadata": {},
   "outputs": [],
   "source": []
  },
  {
   "cell_type": "code",
   "execution_count": null,
   "id": "9808c57e",
   "metadata": {},
   "outputs": [],
   "source": []
  }
 ],
 "metadata": {
  "kernelspec": {
   "display_name": "Python 3 (ipykernel)",
   "language": "python",
   "name": "python3"
  },
  "language_info": {
   "codemirror_mode": {
    "name": "ipython",
    "version": 3
   },
   "file_extension": ".py",
   "mimetype": "text/x-python",
   "name": "python",
   "nbconvert_exporter": "python",
   "pygments_lexer": "ipython3",
   "version": "3.7.0"
  }
 },
 "nbformat": 4,
 "nbformat_minor": 5
}
