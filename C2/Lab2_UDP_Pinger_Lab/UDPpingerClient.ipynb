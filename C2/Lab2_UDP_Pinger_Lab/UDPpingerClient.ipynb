{
 "cells": [
  {
   "cell_type": "code",
   "execution_count": 28,
   "id": "26811e3e",
   "metadata": {},
   "outputs": [
    {
     "name": "stdout",
     "output_type": "stream",
     "text": [
      "sequence_number:1\n",
      "serverMessage:PING 1 SUN MAR 27 10:53:34 2022\n",
      "RTT:0.0009586811065673828\n",
      "\n",
      "packet 2 lost\n",
      "\n",
      "sequence_number:3\n",
      "serverMessage:PING 3 SUN MAR 27 10:53:34 2022\n",
      "RTT:0.0010013580322265625\n",
      "\n",
      "sequence_number:4\n",
      "serverMessage:PING 4 SUN MAR 27 10:53:34 2022\n",
      "RTT:0.0010001659393310547\n",
      "\n",
      "sequence_number:5\n",
      "serverMessage:PING 5 SUN MAR 27 10:53:34 2022\n",
      "RTT:0.0010008811950683594\n",
      "\n",
      "packet 6 lost\n",
      "\n",
      "packet 7 lost\n",
      "\n",
      "sequence_number:8\n",
      "serverMessage:PING 8 SUN MAR 27 10:53:34 2022\n",
      "RTT:0.0019164085388183594\n",
      "\n",
      "sequence_number:9\n",
      "serverMessage:PING 9 SUN MAR 27 10:53:34 2022\n",
      "RTT:0.002054452896118164\n",
      "\n",
      "sequence_number:10\n",
      "serverMessage:PING 10 SUN MAR 27 10:53:34 2022\n",
      "RTT:0.002000570297241211\n",
      "\n"
     ]
    }
   ],
   "source": [
    "from socket import *\n",
    "import time\n",
    "\n",
    "localtime = time.asctime(time.localtime(time.time()))\n",
    "\n",
    "serverIP = \"localhost\"\n",
    "serverPort = 12000\n",
    "clientSocket = socket(AF_INET, SOCK_DGRAM)\n",
    "clientSocket.settimeout(1)\n",
    "\n",
    "for sequence_number in range(1,11):\n",
    "    message = f\"Ping {sequence_number} {localtime}\"\n",
    "    start = time.time()\n",
    "    clientSocket.sendto(message.encode(),(serverIP,serverPort))\n",
    "    try:\n",
    "        serverMessage, serverAddress = clientSocket.recvfrom(1024)\n",
    "        end = time.time()\n",
    "        RTT = end - start  #计算RTT\n",
    "        print(f\"sequence_number:{sequence_number}\")\n",
    "        print(f\"serverMessage:{serverMessage.decode()}\")\n",
    "        print(f\"RTT:{RTT}\\n\")\n",
    "  \n",
    "        \n",
    "    except timeout:\n",
    "        print(f\"packet {sequence_number} lost\\n\")\n",
    "    \n",
    "\n",
    "        \n",
    "clientSocket.close()"
   ]
  },
  {
   "cell_type": "code",
   "execution_count": null,
   "id": "f158d42c",
   "metadata": {},
   "outputs": [],
   "source": []
  },
  {
   "cell_type": "code",
   "execution_count": null,
   "id": "338f0f15",
   "metadata": {},
   "outputs": [],
   "source": []
  }
 ],
 "metadata": {
  "kernelspec": {
   "display_name": "Python [conda env:.conda-python37] *",
   "language": "python",
   "name": "conda-env-.conda-python37-py"
  },
  "language_info": {
   "codemirror_mode": {
    "name": "ipython",
    "version": 3
   },
   "file_extension": ".py",
   "mimetype": "text/x-python",
   "name": "python",
   "nbconvert_exporter": "python",
   "pygments_lexer": "ipython3",
   "version": "3.7.0"
  }
 },
 "nbformat": 4,
 "nbformat_minor": 5
}
