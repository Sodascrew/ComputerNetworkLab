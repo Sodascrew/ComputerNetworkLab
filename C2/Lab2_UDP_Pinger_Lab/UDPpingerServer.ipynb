{
 "cells": [
  {
   "cell_type": "code",
   "execution_count": null,
   "id": "dd86c666",
   "metadata": {},
   "outputs": [],
   "source": [
    "#UDPPingerServer.py\n",
    "# We will need the following module to generate randomized lost packets\n",
    "import random\n",
    "from socket import *\n",
    "\n",
    "# Create a UDP socket \n",
    "# Notice the use of SOCK_DGRAM for UDP packets\n",
    "serverSocket = socket(AF_INET, SOCK_DGRAM)\n",
    "# Assign IP address and port number to socket\n",
    "serverSocket.bind(('', 12000))\n",
    "\n",
    "while True:\n",
    "    # Generate random number in the range of 0 to 10\n",
    "    rand = random.randint(0, 10) \n",
    "    # Receive the client packet along with the address it is coming from \n",
    "    message, address = serverSocket.recvfrom(1024)\n",
    "    # Capitalize the message from the client\n",
    "    message = message.upper()\n",
    "    # If rand is less is than 4, we consider the packet lost and do not respond\n",
    "    if rand < 4:\n",
    "        continue\n",
    "    # Otherwise, the server responds \n",
    "    serverSocket.sendto(message, address)"
   ]
  },
  {
   "cell_type": "code",
   "execution_count": null,
   "id": "b9621cd8",
   "metadata": {},
   "outputs": [],
   "source": []
  },
  {
   "cell_type": "code",
   "execution_count": null,
   "id": "78dfa635",
   "metadata": {},
   "outputs": [],
   "source": []
  }
 ],
 "metadata": {
  "kernelspec": {
   "display_name": "Python [conda env:.conda-python37] *",
   "language": "python",
   "name": "conda-env-.conda-python37-py"
  },
  "language_info": {
   "codemirror_mode": {
    "name": "ipython",
    "version": 3
   },
   "file_extension": ".py",
   "mimetype": "text/x-python",
   "name": "python",
   "nbconvert_exporter": "python",
   "pygments_lexer": "ipython3",
   "version": "3.7.0"
  }
 },
 "nbformat": 4,
 "nbformat_minor": 5
}
